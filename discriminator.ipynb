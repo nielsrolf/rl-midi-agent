{
 "cells": [
  {
   "cell_type": "markdown",
   "metadata": {},
   "source": [
    "# Discriminator\n",
    "\n",
    "The first target is to train a discriminator that can efficiently learn to seperate random sounds from real samples."
   ]
  },
  {
   "cell_type": "code",
   "execution_count": null,
   "metadata": {
    "ExecuteTime": {
     "end_time": "2020-03-02T23:47:22.346524Z",
     "start_time": "2020-03-02T23:47:22.279561Z"
    }
   },
   "outputs": [],
   "source": [
    "%load_ext autoreload\n",
    "%autoreload 2\n",
    "\n",
    "import numpy as np\n",
    "from matplotlib import pyplot as plt\n",
    "\n",
    "from tensorflow.keras.models import Sequential\n",
    "from tensorflow.keras.layers import LSTM, Dense\n",
    "from tensorflow.keras.layers import TimeDistributed"
   ]
  },
  {
   "cell_type": "code",
   "execution_count": null,
   "metadata": {
    "ExecuteTime": {
     "end_time": "2020-03-02T23:45:59.305479Z",
     "start_time": "2020-03-02T23:45:26.683514Z"
    }
   },
   "outputs": [],
   "source": [
    "import pretty_midi\n",
    "from glob import glob\n",
    "real_midis = [pretty_midi.PrettyMIDI(i) for i in glob('maestro-v2.0.0/2008/**.midi')]"
   ]
  },
  {
   "cell_type": "code",
   "execution_count": null,
   "metadata": {
    "ExecuteTime": {
     "end_time": "2020-03-02T23:45:59.379890Z",
     "start_time": "2020-03-02T23:45:59.307758Z"
    }
   },
   "outputs": [],
   "source": [
    "from musicrl.midi2vec import MidiVectorMapper\n",
    "from musicrl.render import *\n",
    "from musicrl.random_generator import generate_random_midi"
   ]
  },
  {
   "cell_type": "code",
   "execution_count": null,
   "metadata": {
    "ExecuteTime": {
     "end_time": "2020-03-02T23:45:59.552879Z",
     "start_time": "2020-03-02T23:45:59.382548Z"
    }
   },
   "outputs": [],
   "source": [
    "mapper = MidiVectorMapper(real_midis)"
   ]
  },
  {
   "cell_type": "markdown",
   "metadata": {},
   "source": [
    "## Naming convention\n",
    "\n",
    "Let's use a naming schema that works like this:\n",
    "- `rand_midi`: random sequence of type PrettyMidi\n",
    "- `rand_seq`: random sequence of vectorized midi\n",
    "- `rand_wav`: random sequence as synthesized waveform\n",
    "- `rand_mel`: mel spectrogram of rand_wav\n",
    "\n",
    "And for collections, we use `rand_midis`, `rand_seqs`, `rand_wavs` and `rand_mels`.\n",
    "\n",
    "For non generated sequences, let's use `real_...`."
   ]
  },
  {
   "cell_type": "code",
   "execution_count": null,
   "metadata": {
    "ExecuteTime": {
     "end_time": "2020-03-02T23:47:57.121031Z",
     "start_time": "2020-03-02T23:47:50.281900Z"
    },
    "scrolled": true
   },
   "outputs": [],
   "source": [
    "real_seq = mapper.midi2vec(samples[1])\n",
    "rand_seq = generate_random_midi(real_seq, seconds=84, num_events=real_seq.shape[0])\n",
    "rand_midi = mapper.vec2midi(rand_seq)\n",
    "listen_to(rand_midi)\n",
    "rand_mel = midi2mel(rand_midi)\n",
    "plot_spectro(rand_mel, \"Random Sequence\")"
   ]
  }
 ],
 "metadata": {
  "kernelspec": {
   "display_name": "Python 3",
   "language": "python",
   "name": "python3"
  },
  "language_info": {
   "codemirror_mode": {
    "name": "ipython",
    "version": 3
   },
   "file_extension": ".py",
   "mimetype": "text/x-python",
   "name": "python",
   "nbconvert_exporter": "python",
   "pygments_lexer": "ipython3",
   "version": "3.7.4"
  },
  "toc": {
   "base_numbering": 1,
   "nav_menu": {},
   "number_sections": true,
   "sideBar": true,
   "skip_h1_title": false,
   "title_cell": "Table of Contents",
   "title_sidebar": "Contents",
   "toc_cell": false,
   "toc_position": {},
   "toc_section_display": true,
   "toc_window_display": true
  }
 },
 "nbformat": 4,
 "nbformat_minor": 2
}
