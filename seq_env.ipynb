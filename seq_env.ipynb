{
 "cells": [
  {
   "cell_type": "markdown",
   "metadata": {},
   "source": [
    "# Environment\n",
    "\n",
    "Now we have a trainable discriminator - it's time to build the environment"
   ]
  },
  {
   "cell_type": "code",
   "execution_count": 2,
   "metadata": {
    "ExecuteTime": {
     "end_time": "2020-04-10T16:50:58.424034Z",
     "start_time": "2020-04-10T16:50:51.998194Z"
    }
   },
   "outputs": [
    {
     "name": "stdout",
     "output_type": "stream",
     "text": [
      "The autoreload extension is already loaded. To reload it, use:\n",
      "  %reload_ext autoreload\n"
     ]
    }
   ],
   "source": [
    "## Imports and data loading\n",
    "\n",
    "%load_ext autoreload\n",
    "%autoreload 2\n",
    "\n",
    "import numpy as np\n",
    "from matplotlib import pyplot as plt\n",
    "\n",
    "from tensorflow.keras.models import Sequential, load_model\n",
    "from tensorflow.keras.layers import LSTM, Dense\n",
    "from tensorflow.keras.layers import TimeDistributed\n",
    "from tensorflow.keras import metrics\n",
    "\n",
    "from musicrl.midi2vec import MidiVectorMapper\n",
    "from musicrl.render import *\n",
    "from musicrl.data import RandomMidiDataGenerator\n",
    "\n",
    "import pretty_midi\n",
    "from glob import glob\n",
    "\n",
    "\n",
    "REAL = 1\n",
    "GEN = 0"
   ]
  },
  {
   "cell_type": "code",
   "execution_count": null,
   "metadata": {
    "ExecuteTime": {
     "start_time": "2020-04-10T16:51:01.901Z"
    }
   },
   "outputs": [],
   "source": [
    "filepaths = list(glob('maestro-v2.0.0/2008/**.midi'))\n",
    "real_midis = [pretty_midi.PrettyMIDI(i) for i in filepaths]\n",
    "mapper = MidiVectorMapper(real_midis)"
   ]
  },
  {
   "cell_type": "code",
   "execution_count": null,
   "metadata": {
    "ExecuteTime": {
     "start_time": "2020-04-10T16:51:02.496Z"
    }
   },
   "outputs": [],
   "source": [
    "mapper = MidiVectorMapper(real_midis)\n",
    "real_seq = mapper.midi2vec(real_midis[1])\n",
    "real_seq.shape"
   ]
  },
  {
   "cell_type": "code",
   "execution_count": null,
   "metadata": {
    "ExecuteTime": {
     "start_time": "2020-04-10T16:51:03.284Z"
    }
   },
   "outputs": [],
   "source": [
    "import gym\n",
    "import pretty_midi\n",
    "\n",
    "\n",
    "class SeqEnvironment(gym.Env):\n",
    "    \"\"\"We ignore control change events for now\n",
    "    \"\"\"\n",
    "    def __init__(\n",
    "        self,\n",
    "        discriminator,\n",
    "        mapper,\n",
    "        observation_shape=(1,128), #1 is batch_size\n",
    "\n",
    "\n",
    "        \n",
    "        change_rate=0.01\n",
    "    ):\n",
    "        super().__init__()\n",
    "        # Define action and observation space\n",
    "        # They must be gym.spaces objects\n",
    "        # Example when using discrete actions:\n",
    "        # self.action_space = spaces.Discrete(N_DISCRETE_ACTIONS)\n",
    "        # Example for using image as input:\n",
    "        # self.observation_space = spaces.Box(low=0, high=255,\n",
    "        #                                    shape=(HEIGHT, WIDTH, N_CHANNELS), dtype=np.uint8)\n",
    "        self.discriminator = discriminator\n",
    "        self.mapper = mapper\n",
    "        self.observation_shape = observation_shape\n",
    "        self.change_rate = change_rate\n",
    "        self.reset()\n",
    "        \n",
    "    def step(self, action):\n",
    "        self.current_seq.append(action)\n",
    "        self.observation  = self.observation + np.random.normal(0, self.change_rate, size=self.observation_shape)\n",
    "        reward, done, info = None, None, None\n",
    "        reward, done, info = [1], [False], None\n",
    "        return np.array(self.observation), reward, done, info\n",
    "    \n",
    "    def reset(self):\n",
    "        self.current_seq = []\n",
    "        self.observation = np.random.normal(0, 1, size=self.observation_shape)\n",
    "        return self.observation  # reward, done, info can't be included\n",
    "\n",
    "    def render(self, mode='human'):\n",
    "        pass\n",
    "    \n",
    "    def close (self):\n",
    "        pass"
   ]
  },
  {
   "cell_type": "code",
   "execution_count": null,
   "metadata": {
    "ExecuteTime": {
     "start_time": "2020-04-10T16:51:05.556Z"
    },
    "scrolled": true
   },
   "outputs": [],
   "source": [
    "mapper.column_meaning\n",
    "env = SeqEnvironment(None, mapper)"
   ]
  },
  {
   "cell_type": "code",
   "execution_count": null,
   "metadata": {
    "ExecuteTime": {
     "start_time": "2020-04-10T16:51:06.663Z"
    }
   },
   "outputs": [],
   "source": [
    "wav = mapper.vec2midi(env.current_seq).synthesize(22050)\n",
    "display(Audio(wav, rate=22050))"
   ]
  },
  {
   "cell_type": "code",
   "execution_count": null,
   "metadata": {},
   "outputs": [],
   "source": [
    "from musicrl.agent import *\n",
    "from musicrl.models import *\n",
    "from tqdm import *\n",
    "\n",
    "\n",
    "\n",
    "midi_representation_dim=128\n",
    "agent = DDPG(midi_representation_dim,midi_representation_dim,act_range=midi_representation_dim,k=0)\n",
    "\n",
    "\n",
    "# First, gather experience\n",
    "config = {\n",
    "    \"nb_episodes\" : 10,\n",
    "    \"batch_size\" : 32\n",
    "}\n",
    "\n",
    "print(range(config[\"nb_episodes\"]))\n",
    "\n",
    "tqdm_e = tqdm(range(config[\"nb_episodes\"]), desc='Score', leave=True, unit=\" episodes\")\n",
    "for e in tqdm_e:\n",
    "\n",
    "    # Reset episode\n",
    "    time, cumul_reward, done = 0, 0, False\n",
    "    old_state = env.reset()\n",
    "    actions, states, rewards = [], [], []\n",
    "    \n",
    "\n",
    "    \n",
    "\n",
    "    while not done:\n",
    "        env.render()\n",
    "        # Actor picks an action (following the deterministic policy)   \n",
    "        \n",
    "        actions = agent.policy_action(old_state)\n",
    "\n",
    "    \n",
    "        \n",
    "        # Clip continuous values to be valid w.r.t. environment\n",
    "        #a = np.clip(a+noise.generate(time), -self.act_range, self.act_range)\n",
    "        # Retrieve new state, reward, and whether the state is terminal\n",
    "        \n",
    "        states, rewards, dones, _ = env.step(actions) #new_states -> bs of new_state\n",
    "        \n",
    "\n",
    "        \n",
    "\n",
    "        # Add outputs to memory buffer\n",
    "        #agent.memorize(old_state, a, r, done, new_state)\n",
    "        # Sample experience from buffer\n",
    "        \n",
    "        #states, actions, rewards, dones, new_states, _ = agent.sample_batch(config[\"batch_size\"])\n",
    "        # Predict target q-values using target networks\n",
    "        \n",
    "        \n",
    "\n",
    "        \n",
    "        q_values = agent.critic.target_model.predict([states, agent.actor.target_model.predict(states)])        \n",
    "        # Compute critic target\n",
    "\n",
    "\n",
    "        critic_target = agent.bellman(rewards, q_values, dones)\n",
    "\n",
    "        \n",
    "        print(\"##\")\n",
    "        import pdb\n",
    "        pdb.set_trace()\n",
    "        print(len(states))\n",
    "        print(actions.shape)\n",
    "        print(critic_target)\n",
    "    \n",
    "        # Train both networks on sampled batch, update target networks\n",
    "        agent.update_models(states, actions, critic_target)\n",
    "        # Update current state\n",
    "        old_state = new_state\n",
    "        cumul_reward += r\n",
    "        time += 1\n",
    "\n",
    "    # Gather stats every episode for plotting\n",
    "    if(args.gather_stats):\n",
    "        mean, stdev = gather_stats(self, env)\n",
    "        results.append([e, mean, stdev])\n",
    "\n",
    "    # Export results for Tensorboard\n",
    "    score = tfSummary('score', cumul_reward)\n",
    "    summary_writer.add_summary(score, global_step=e)\n",
    "    summary_writer.flush()\n",
    "    # Display score\n",
    "    tqdm_e.set_description(\"Score: \" + str(cumul_reward))\n",
    "    tqdm_e.refresh()"
   ]
  }
 ],
 "metadata": {
  "kernelspec": {
   "display_name": "Python 3",
   "language": "python",
   "name": "python3"
  },
  "language_info": {
   "codemirror_mode": {
    "name": "ipython",
    "version": 3
   },
   "file_extension": ".py",
   "mimetype": "text/x-python",
   "name": "python",
   "nbconvert_exporter": "python",
   "pygments_lexer": "ipython3",
   "version": "3.6.10"
  },
  "toc": {
   "base_numbering": 1,
   "nav_menu": {},
   "number_sections": true,
   "sideBar": true,
   "skip_h1_title": false,
   "title_cell": "Table of Contents",
   "title_sidebar": "Contents",
   "toc_cell": false,
   "toc_position": {},
   "toc_section_display": true,
   "toc_window_display": true
  }
 },
 "nbformat": 4,
 "nbformat_minor": 4
}
